{
 "cells": [
  {
   "cell_type": "code",
   "execution_count": 11,
   "id": "c36f0630",
   "metadata": {},
   "outputs": [],
   "source": [
    "import os\n",
    "import numpy as np\n",
    "from PIL import Image\n",
    "import random\n",
    "import math\n",
    "import pandas as pd"
   ]
  },
  {
   "cell_type": "code",
   "execution_count": null,
   "id": "6036d032",
   "metadata": {},
   "outputs": [
    {
     "ename": "FileNotFoundError",
     "evalue": "[Errno 2] No such file or directory: 'cat.jpg'",
     "output_type": "error",
     "traceback": [
      "\u001b[31m---------------------------------------------------------------------------\u001b[39m",
      "\u001b[31mFileNotFoundError\u001b[39m                         Traceback (most recent call last)",
      "\u001b[36mCell\u001b[39m\u001b[36m \u001b[39m\u001b[32mIn[7]\u001b[39m\u001b[32m, line 2\u001b[39m\n\u001b[32m      1\u001b[39m \u001b[38;5;66;03m# 1. Carica l’immagine e normalizza in [0,1]\u001b[39;00m\n\u001b[32m----> \u001b[39m\u001b[32m2\u001b[39m img = \u001b[43mImage\u001b[49m\u001b[43m.\u001b[49m\u001b[43mopen\u001b[49m\u001b[43m(\u001b[49m\u001b[33;43m'\u001b[39;49m\u001b[33;43mcat.jpg\u001b[39;49m\u001b[33;43m'\u001b[39;49m\u001b[43m)\u001b[49m.convert(\u001b[33m'\u001b[39m\u001b[33mRGB\u001b[39m\u001b[33m'\u001b[39m)\n\u001b[32m      3\u001b[39m img_arr = np.asarray(img, dtype=np.float32) / \u001b[32m255.0\u001b[39m\n\u001b[32m      4\u001b[39m noisy_arr = add_salt_pepper_noise(img_arr, amount=\u001b[32m0.1\u001b[39m)\n",
      "\u001b[36mFile \u001b[39m\u001b[32m~\\AppData\\Roaming\\Python\\Python313\\site-packages\\PIL\\Image.py:3505\u001b[39m, in \u001b[36mopen\u001b[39m\u001b[34m(fp, mode, formats)\u001b[39m\n\u001b[32m   3502\u001b[39m     filename = os.fspath(fp)\n\u001b[32m   3504\u001b[39m \u001b[38;5;28;01mif\u001b[39;00m filename:\n\u001b[32m-> \u001b[39m\u001b[32m3505\u001b[39m     fp = \u001b[43mbuiltins\u001b[49m\u001b[43m.\u001b[49m\u001b[43mopen\u001b[49m\u001b[43m(\u001b[49m\u001b[43mfilename\u001b[49m\u001b[43m,\u001b[49m\u001b[43m \u001b[49m\u001b[33;43m\"\u001b[39;49m\u001b[33;43mrb\u001b[39;49m\u001b[33;43m\"\u001b[39;49m\u001b[43m)\u001b[49m\n\u001b[32m   3506\u001b[39m     exclusive_fp = \u001b[38;5;28;01mTrue\u001b[39;00m\n\u001b[32m   3507\u001b[39m \u001b[38;5;28;01melse\u001b[39;00m:\n",
      "\u001b[31mFileNotFoundError\u001b[39m: [Errno 2] No such file or directory: 'cat.jpg'"
     ]
    }
   ],
   "source": [
    "# 1. Carica l’immagine e normalizza in [0,1]\n",
    "img = Image.open('cat.jpg').convert('RGB')\n",
    "img_arr = np.asarray(img, dtype=np.float32) / 255.0\n",
    "noisy_arr = add_salt_pepper_noise(img_arr, amount=0.1)\n",
    "noisy_img = Image.fromarray((noisy_arr * 255).astype(np.uint8))\n",
    "\n",
    "# 4a. Salva su disco\n",
    "noisy_img.save('noisy_image.jpg')\n",
    "\n",
    "# 4b. Oppure mostra a video (apre il viewer predefinito)\n",
    "noisy_img.show()\n"
   ]
  },
  {
   "cell_type": "code",
   "execution_count": 6,
   "id": "e0de9d84",
   "metadata": {},
   "outputs": [],
   "source": [
    "def add_salt_pepper_noise(image: np.ndarray, amount: float = 0.05, salt_vs_pepper: float = 0.5) -> np.ndarray:\n",
    "    \"\"\"\n",
    "    :param image: Input image as float32 numpy array in [0,1], shape (H, W, 3).\n",
    "    :param amount: Fraction of total pixels to corrupt.\n",
    "    :param salt_vs_pepper: Fraction of corrupted pixels that are salt (vs pepper).\n",
    "    :return: Noisy image as numpy array.\n",
    "    \"\"\"\n",
    "    noisy = np.copy(image)\n",
    "    ROWS, COLS, _ = image.shape\n",
    "    num_pixels = ROWS * COLS\n",
    "    num_salt = int(np.ceil(amount * num_pixels * salt_vs_pepper))\n",
    "    num_pepper = int(np.ceil(amount * num_pixels * (1 - salt_vs_pepper)))\n",
    "\n",
    "    # SALT\n",
    "    coords_y = np.random.randint(0, ROWS, num_salt)\n",
    "    coords_x = np.random.randint(0, COLS, num_salt)\n",
    "    noisy[coords_y, coords_x, :] = 1.0\n",
    "\n",
    "    # PEPPER\n",
    "    coords_y = np.random.randint(0, ROWS, num_pepper)\n",
    "    coords_x = np.random.randint(0, COLS, num_pepper)\n",
    "    noisy[coords_y, coords_x, :] = 0.0\n",
    "\n",
    "    return noisy\n",
    "\n",
    "\n",
    "\n",
    "def add_gaussian_noise(image: np.ndarray, mean: float = 0.0, var: float = 0.01) -> np.ndarray:\n",
    "    \"\"\"\n",
    "    :param image: Input image as a float32 numpy array with values in [0, 1].\n",
    "    :param mean: Mean of Gaussian noise.\n",
    "    :param var: Variance of Gaussian noise.\n",
    "    :return: Noisy image as numpy array.\n",
    "    \"\"\"\n",
    "    sigma = math.sqrt(var)\n",
    "    gauss = np.random.normal(mean, sigma, image.shape)\n",
    "    noisy = image + gauss\n",
    "    return np.clip(noisy, 0, 1)\n",
    "\n",
    "\n",
    "\n",
    "def add_uniform_noise(image: np.ndarray, low: float = -0.05, high: float = 0.05) -> np.ndarray:\n",
    "    \"\"\"\n",
    "    :param image: Input image as a float32 numpy array with values in [0, 1].\n",
    "    :param low: Lower bound of uniform noise.\n",
    "    :param high: Upper bound of uniform noise.\n",
    "    :return: Noisy image as numpy array.\n",
    "    \"\"\"\n",
    "    uniform_noise = np.random.uniform(low, high, image.shape)\n",
    "    noisy = image + uniform_noise\n",
    "    return np.clip(noisy, 0, 1)"
   ]
  },
  {
   "cell_type": "code",
   "execution_count": 12,
   "id": "c3c75f06",
   "metadata": {},
   "outputs": [],
   "source": [
    "def generate_dataset(input_dir: str, output_dir: str) -> None:\n",
    "    # Noise specifications\n",
    "    specs = {\n",
    "        'original': None,\n",
    "        'salt_pepper': {'func': add_salt_pepper_noise, 'params': {'amount': 0.05, 'salt_vs_pepper': 0.5}},\n",
    "        'gaussian': {'func': add_gaussian_noise, 'params': {'mean': 0.0, 'var': 0.01}},\n",
    "        'uniform': {'func': add_uniform_noise, 'params': {'low': -0.05, 'high': 0.05}}\n",
    "    }\n",
    "    \n",
    "    # Mapping folder names to labels\n",
    "    label_map = {\n",
    "        'original': 'Original',\n",
    "        'salt_pepper': 'Salt & Pepper',\n",
    "        'gaussian': 'Gaussian',\n",
    "        'uniform': 'Uniform'\n",
    "    }\n",
    "\n",
    "    # Create output subdirectories\n",
    "    for folder in specs:\n",
    "        os.makedirs(os.path.join(output_dir, folder), exist_ok=True)\n",
    "\n",
    "    # Prepare records for supervised labels\n",
    "    records = []\n",
    "\n",
    "    # Process images\n",
    "    for fname in os.listdir(input_dir):\n",
    "        if not fname.lower().endswith(('.png', '.jpg', '.jpeg', '.bmp', '.tiff')):\n",
    "            continue\n",
    "        # Load and normalize\n",
    "        img = Image.open(os.path.join(input_dir, fname)).convert('RGB')\n",
    "        arr = np.asarray(img, dtype=np.float32) / 255.0\n",
    "        \n",
    "        # Save original\n",
    "        save_path = os.path.join(output_dir, 'original', fname)\n",
    "        img.save(save_path)\n",
    "        records.append({'filepath': save_path, 'label': label_map['original']})\n",
    "        \n",
    "        # Apply noise types\n",
    "        for folder, spec in specs.items():\n",
    "            if spec is None:\n",
    "                continue\n",
    "            noisy_arr = spec['func'](arr, **spec['params'])\n",
    "            noisy_img = Image.fromarray((noisy_arr * 255).astype(np.uint8))\n",
    "            noisy_path = os.path.join(output_dir, folder, fname)\n",
    "            noisy_img.save(noisy_path)\n",
    "            records.append({'filepath': noisy_path, 'label': label_map[folder]})\n",
    "    \n",
    "    # Save labels CSV\n",
    "    df = pd.DataFrame(records)\n",
    "    csv_path = os.path.join(output_dir, 'labels.csv')\n",
    "    df.to_csv(csv_path, index=False)\n",
    "    print(f\"Dataset and labels saved. CSV written to: {csv_path}\")"
   ]
  },
  {
   "cell_type": "code",
   "execution_count": 13,
   "id": "c913b500",
   "metadata": {},
   "outputs": [
    {
     "name": "stdout",
     "output_type": "stream",
     "text": [
      "Dataset and labels saved. CSV written to: dataset/.\\labels.csv\n"
     ]
    }
   ],
   "source": [
    "# ESEGUO\n",
    "input_directory = \".\"\n",
    "output_directory = \"dataset/.\"\n",
    "generate_dataset(input_directory, output_directory)"
   ]
  }
 ],
 "metadata": {
  "kernelspec": {
   "display_name": "Python 3",
   "language": "python",
   "name": "python3"
  },
  "language_info": {
   "codemirror_mode": {
    "name": "ipython",
    "version": 3
   },
   "file_extension": ".py",
   "mimetype": "text/x-python",
   "name": "python",
   "nbconvert_exporter": "python",
   "pygments_lexer": "ipython3",
   "version": "3.13.3"
  }
 },
 "nbformat": 4,
 "nbformat_minor": 5
}
