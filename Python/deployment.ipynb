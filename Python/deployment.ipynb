{
 "cells": [
  {
   "cell_type": "code",
   "execution_count": 4,
   "id": "b8706c80",
   "metadata": {},
   "outputs": [],
   "source": [
    "import tensorflow as tf\n",
    "from tensorflow.keras.models import load_model\n",
    "from PIL import Image\n",
    "import numpy as np\n",
    "import sys"
   ]
  },
  {
   "cell_type": "code",
   "execution_count": 5,
   "id": "cdc67375",
   "metadata": {},
   "outputs": [],
   "source": [
    "# Carica il modello\n",
    "model = load_model(\"GOAT.h5\")\n",
    "\n",
    "# Ricava dimensioni di input (None, altezza, larghezza, 3)\n",
    "_, h, w, _ = model.input_shape\n",
    "\n",
    "# Nomi delle classi secondo train_gen.class_indices\n",
    "class_names = [\n",
    "    \"Erlang/Rayleigh\",\n",
    "    \"Gaussian\",\n",
    "    \"Original\",\n",
    "    \"Periodic\",\n",
    "    \"Salt & Pepper\",\n",
    "    \"Speckle\",\n",
    "    \"Striping Horizontal\",\n",
    "    \"Striping Vertical\",\n",
    "    \"Uniform\"\n",
    "]"
   ]
  },
  {
   "cell_type": "code",
   "execution_count": 21,
   "id": "4b1233eb",
   "metadata": {},
   "outputs": [],
   "source": [
    "# Percorso dell’immagine (da argomento o default)\n",
    "image_path = \"barbecue.jpg\"\n",
    "\n",
    "# Carica e ridimensiona in RGB\n",
    "img = Image.open(image_path).convert(\"RGB\").resize((w, h))\n",
    "arr = np.array(img).astype(\"float32\") / 255.0\n",
    "\n",
    "# Aggiunge la dimensione batch: (1, h, w, 3)\n",
    "arr = np.expand_dims(arr, axis=0)"
   ]
  },
  {
   "cell_type": "code",
   "execution_count": 22,
   "id": "cfc172a3",
   "metadata": {},
   "outputs": [
    {
     "name": "stdout",
     "output_type": "stream",
     "text": [
      "1/1 [==============================] - 0s 24ms/step\n",
      "Classe predetta: 7 → Striping Vertical (confidenza: 1.0000)\n"
     ]
    }
   ],
   "source": [
    "# Predizione\n",
    "probs = model.predict(arr).flatten()\n",
    "idx = np.argmax(probs)\n",
    "\n",
    "# Stampa indice, nome e confidenza\n",
    "print(f\"Classe predetta: {idx} → {class_names[idx]} (confidenza: {probs[idx]:.4f})\")"
   ]
  }
 ],
 "metadata": {
  "kernelspec": {
   "display_name": "py310",
   "language": "python",
   "name": "python3"
  },
  "language_info": {
   "codemirror_mode": {
    "name": "ipython",
    "version": 3
   },
   "file_extension": ".py",
   "mimetype": "text/x-python",
   "name": "python",
   "nbconvert_exporter": "python",
   "pygments_lexer": "ipython3",
   "version": "3.10.17"
  }
 },
 "nbformat": 4,
 "nbformat_minor": 5
}
