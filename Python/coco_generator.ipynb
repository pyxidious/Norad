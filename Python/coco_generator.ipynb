{
 "cells": [
  {
   "cell_type": "code",
   "execution_count": 3,
   "id": "ee9b6af8",
   "metadata": {},
   "outputs": [
    {
     "name": "stdout",
     "output_type": "stream",
     "text": [
      "Copiate 10000 immagini da 'CocoMini_25k' a 'CocoBase_10k'.\n"
     ]
    }
   ],
   "source": [
    "#!/usr/bin/env python3\n",
    "import os\n",
    "import random\n",
    "import shutil\n",
    "\n",
    "def sample_images(input_dir: str, output_dir: str, num_samples: int = 100):\n",
    "    \"\"\"\n",
    "    Prende num_samples immagini a caso da input_dir e le copia in output_dir.\n",
    "    \"\"\"\n",
    "    # Controlla che la cartella di input esista\n",
    "    if not os.path.isdir(input_dir):\n",
    "        raise FileNotFoundError(f\"Directory di input non trovata: {input_dir}\")\n",
    "\n",
    "    # Crea la cartella di output se non esiste\n",
    "    os.makedirs(output_dir, exist_ok=True)\n",
    "\n",
    "    # Filtra i file immagine per estensione\n",
    "    valid_exts = {'.jpg', '.jpeg', '.png', '.bmp', '.tiff'}\n",
    "    all_files = [\n",
    "        f for f in os.listdir(input_dir)\n",
    "        if os.path.splitext(f.lower())[1] in valid_exts\n",
    "    ]\n",
    "\n",
    "    if len(all_files) < num_samples:\n",
    "        raise ValueError(f\"Non ci sono abbastanza immagini in {input_dir} (trovate {len(all_files)}, richieste {num_samples})\")\n",
    "\n",
    "    # Scegli num_samples file a caso\n",
    "    sampled = random.sample(all_files, num_samples)\n",
    "\n",
    "    # Copia ciascuna immagine nella cartella di output\n",
    "    for fname in sampled:\n",
    "        src = os.path.join(input_dir, fname)\n",
    "        dst = os.path.join(output_dir, fname)\n",
    "        shutil.copy2(src, dst)\n",
    "\n",
    "    print(f\"Copiate {num_samples} immagini da '{input_dir}' a '{output_dir}'.\")\n",
    "\n",
    "if __name__ == \"__main__\":\n",
    "    INPUT_DIR = \"CocoMini_25k\"\n",
    "    OUTPUT_DIR = \"CocoBase_10k\"\n",
    "    NUM_SAMPLES = 10000\n",
    "\n",
    "    sample_images(INPUT_DIR, OUTPUT_DIR, NUM_SAMPLES)\n"
   ]
  }
 ],
 "metadata": {
  "kernelspec": {
   "display_name": "Python 3",
   "language": "python",
   "name": "python3"
  },
  "language_info": {
   "codemirror_mode": {
    "name": "ipython",
    "version": 3
   },
   "file_extension": ".py",
   "mimetype": "text/x-python",
   "name": "python",
   "nbconvert_exporter": "python",
   "pygments_lexer": "ipython3",
   "version": "3.13.3"
  }
 },
 "nbformat": 4,
 "nbformat_minor": 5
}
