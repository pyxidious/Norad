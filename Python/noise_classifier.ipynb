{
 "cells": [
  {
   "cell_type": "code",
   "execution_count": 34,
   "id": "b184f9b6",
   "metadata": {},
   "outputs": [],
   "source": [
    "import numpy as np\n",
    "import pickle\n",
    "import matplotlib.pyplot as plt\n",
    "from tensorflow.keras.models import Sequential, load_model\n",
    "from tensorflow.keras.layers import Conv2D, MaxPooling2D, Flatten, Dense, Dropout\n",
    "from tensorflow.keras.applications import VGG16\n",
    "from tensorflow.keras.optimizers import Adam\n",
    "import tensorflow as tf\n",
    "from sklearn.metrics import confusion_matrix, ConfusionMatrixDisplay"
   ]
  },
  {
   "cell_type": "code",
   "execution_count": null,
   "id": "62f4e164",
   "metadata": {},
   "outputs": [],
   "source": [
    "x_train = np.loadtxt(\"/content/drive/MyDrive/Datasets/CatsDogs/input.csv\", delimiter=',')\n",
    "y_train = np.loadtxt(\"/content/drive/MyDrive/Datasets/CatsDogs/labels.csv\", delimiter=',')\n",
    "\n",
    "x_test = np.loadtxt(\"/content/drive/MyDrive/Datasets/CatsDogs/input_test.csv\", delimiter=',')\n",
    "y_test = np.loadtxt(\"/content/drive/MyDrive/Datasets/CatsDogs/labels_test.csv\", delimiter=',')"
   ]
  },
  {
   "cell_type": "code",
   "execution_count": null,
   "id": "fb8f7b53",
   "metadata": {},
   "outputs": [],
   "source": [
    "x_train = x_train.reshape(len(x_train), 100, 100, 3)\n",
    "x_test = x_test.reshape(len(x_test), 100, 100, 3)\n",
    "\n",
    "y_train = y_train.reshape(len(y_train), 1)\n",
    "y_test = y_test.reshape(len(y_test), 1)\n",
    "\n",
    "x_train = x_train / 255\n",
    "x_test = x_test / 255"
   ]
  },
  {
   "cell_type": "code",
   "execution_count": null,
   "id": "48f73a85",
   "metadata": {},
   "outputs": [],
   "source": [
    "# split: 83-17\n",
    "print(x_train.shape)\n",
    "print(y_train.shape)\n",
    "print(x_test.shape)\n",
    "print(y_test.shape)"
   ]
  },
  {
   "cell_type": "code",
   "execution_count": null,
   "id": "5cf48092",
   "metadata": {},
   "outputs": [],
   "source": [
    "# show a random image\n",
    "index = random.randint(0, len(x_train)) # random index\n",
    "plt.imshow(x_train[index])\n",
    "plt.show()"
   ]
  },
  {
   "cell_type": "code",
   "execution_count": null,
   "id": "2b671c96",
   "metadata": {},
   "outputs": [],
   "source": [
    "model = Sequential()\n",
    "model.add(Conv2D(32, (3, 3), activation='relu', input_shape=(100, 100, 3)))\n",
    "model.add(MaxPooling2D((2, 2)))\n",
    "model.add(Conv2D(64, (3, 3), activation='relu'))\n",
    "model.add(MaxPooling2D((2, 2)))\n",
    "model.add(Conv2D(128, (3, 3), activation='relu'))\n",
    "model.add(MaxPooling2D((2, 2)))\n",
    "model.add(Flatten())\n",
    "model.add(Dense(128, activation='relu'))\n",
    "model.add(Dense(1, activation='sigmoid'))"
   ]
  },
  {
   "cell_type": "code",
   "execution_count": null,
   "id": "983b1519",
   "metadata": {},
   "outputs": [],
   "source": [
    "# Compilazione del modello\n",
    "model.compile(optimizer=Adam(learning_rate=0.0001), loss='sparse_categorical_crossentropy', metrics=['accuracy'])"
   ]
  },
  {
   "cell_type": "code",
   "execution_count": null,
   "id": "fb9c9c39",
   "metadata": {},
   "outputs": [],
   "source": [
    "# Carica i pesi dal file pickle\n",
    "with open(\"/content/drive/MyDrive/Datasets/CatsDogs/vgg16.pkl\", 'rb') as f:\n",
    "    weights = pickle.load(f)\n",
    "\n",
    "# Assegna i pesi al modello\n",
    "model.set_weights(weights)"
   ]
  },
  {
   "cell_type": "code",
   "execution_count": null,
   "id": "e5fc43b3",
   "metadata": {},
   "outputs": [],
   "source": [
    "# Addestramento del modello\n",
    "model.fit(x_train, y_train, epochs=5, batch_size=32, validation_data=(x_test, y_test))"
   ]
  },
  {
   "cell_type": "code",
   "execution_count": null,
   "id": "40f78836",
   "metadata": {},
   "outputs": [],
   "source": [
    "model = load_model(\"/content/drive/MyDrive/Datasets/CatsDogs/cnn.keras\")"
   ]
  },
  {
   "cell_type": "code",
   "execution_count": null,
   "id": "45aefde2",
   "metadata": {},
   "outputs": [],
   "source": [
    "model.evaluate(x_test, y_test)"
   ]
  },
  {
   "cell_type": "code",
   "execution_count": null,
   "id": "dfcecbd2",
   "metadata": {},
   "outputs": [],
   "source": [
    "idx2 = random.randint(0, len(x_test))\n",
    "plt.imshow(x_test[idx2])\n",
    "plt.show()\n",
    "\n",
    "y_pred = model.predict(x_test[idx2,:].reshape(1,100,100,3))\n",
    "print(y_pred[0]);\n",
    "if(y_pred > 0.5): print(\"Cat\")\n",
    "else: print(\"Dog\")"
   ]
  },
  {
   "cell_type": "code",
   "execution_count": 35,
   "id": "224859f3",
   "metadata": {},
   "outputs": [
    {
     "name": "stdout",
     "output_type": "stream",
     "text": [
      "Downloading data from https://storage.googleapis.com/tensorflow/tf-keras-datasets/mnist.npz\n",
      "\u001b[1m11490434/11490434\u001b[0m \u001b[32m━━━━━━━━━━━━━━━━━━━━\u001b[0m\u001b[37m\u001b[0m \u001b[1m3s\u001b[0m 0us/step\n"
     ]
    }
   ],
   "source": [
    "(x_train, y_train), (x_test, y_test) = tf.keras.datasets.mnist.load_data()\n",
    "\n",
    "# Normalizzazione delle immagini (da 0-255 a 0-1)\n",
    "x_train = x_train / 255.0\n",
    "x_test = x_test / 255.0"
   ]
  },
  {
   "cell_type": "code",
   "execution_count": 42,
   "id": "840fe11d",
   "metadata": {},
   "outputs": [
    {
     "name": "stderr",
     "output_type": "stream",
     "text": [
      "c:\\Users\\tomma\\anaconda3\\Lib\\site-packages\\keras\\src\\layers\\reshaping\\flatten.py:37: UserWarning: Do not pass an `input_shape`/`input_dim` argument to a layer. When using Sequential models, prefer using an `Input(shape)` object as the first layer in the model instead.\n",
      "  super().__init__(**kwargs)\n"
     ]
    }
   ],
   "source": [
    "model = tf.keras.models.Sequential()\n",
    "model.add(Flatten(input_shape=(28,28)))    # flattens the 28x28 images into arrays of 784 pixels\n",
    "model.add(Dense(128, activation='relu'))   # 1st hidden layer\n",
    "model.add(Dense(128, activation='relu'))   # 2nd hidden layer\n",
    "model.add(Dense(10, activation='softmax')) # output layer\n",
    "\n",
    "model.compile(optimizer='adam', loss='sparse_categorical_crossentropy', metrics=['accuracy'])"
   ]
  },
  {
   "cell_type": "code",
   "execution_count": 43,
   "id": "8b67bffd",
   "metadata": {},
   "outputs": [
    {
     "name": "stdout",
     "output_type": "stream",
     "text": [
      "Epoch 1/4\n",
      "\u001b[1m1875/1875\u001b[0m \u001b[32m━━━━━━━━━━━━━━━━━━━━\u001b[0m\u001b[37m\u001b[0m \u001b[1m3s\u001b[0m 1ms/step - accuracy: 0.8823 - loss: 0.4054\n",
      "Epoch 2/4\n",
      "\u001b[1m1875/1875\u001b[0m \u001b[32m━━━━━━━━━━━━━━━━━━━━\u001b[0m\u001b[37m\u001b[0m \u001b[1m2s\u001b[0m 1ms/step - accuracy: 0.9700 - loss: 0.0983\n",
      "Epoch 3/4\n",
      "\u001b[1m1875/1875\u001b[0m \u001b[32m━━━━━━━━━━━━━━━━━━━━\u001b[0m\u001b[37m\u001b[0m \u001b[1m2s\u001b[0m 1ms/step - accuracy: 0.9783 - loss: 0.0677\n",
      "Epoch 4/4\n",
      "\u001b[1m1875/1875\u001b[0m \u001b[32m━━━━━━━━━━━━━━━━━━━━\u001b[0m\u001b[37m\u001b[0m \u001b[1m2s\u001b[0m 1ms/step - accuracy: 0.9850 - loss: 0.0484\n"
     ]
    },
    {
     "data": {
      "text/plain": [
       "<keras.src.callbacks.history.History at 0x1e1ff81df70>"
      ]
     },
     "execution_count": 43,
     "metadata": {},
     "output_type": "execute_result"
    }
   ],
   "source": [
    "model.fit(x_train, y_train, epochs=4) #99.79%, 0.0070 loss"
   ]
  },
  {
   "cell_type": "code",
   "execution_count": 53,
   "id": "40fae117",
   "metadata": {},
   "outputs": [
    {
     "name": "stdout",
     "output_type": "stream",
     "text": [
      "\u001b[1m313/313\u001b[0m \u001b[32m━━━━━━━━━━━━━━━━━━━━\u001b[0m\u001b[37m\u001b[0m \u001b[1m0s\u001b[0m 923us/step\n"
     ]
    }
   ],
   "source": [
    "predictions = model.predict(x_test)\n",
    "y_pred = [np.argmax(prediction) for prediction in predictions]"
   ]
  }
 ],
 "metadata": {
  "kernelspec": {
   "display_name": "base",
   "language": "python",
   "name": "python3"
  },
  "language_info": {
   "codemirror_mode": {
    "name": "ipython",
    "version": 3
   },
   "file_extension": ".py",
   "mimetype": "text/x-python",
   "name": "python",
   "nbconvert_exporter": "python",
   "pygments_lexer": "ipython3",
   "version": "3.12.7"
  }
 },
 "nbformat": 4,
 "nbformat_minor": 5
}
